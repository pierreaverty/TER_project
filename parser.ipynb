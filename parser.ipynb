{
 "cells": [
  {
   "cell_type": "code",
   "execution_count": 1,
   "metadata": {},
   "outputs": [],
   "source": [
    "import pandas as pd"
   ]
  },
  {
   "cell_type": "code",
   "execution_count": 20,
   "metadata": {},
   "outputs": [
    {
     "data": {
      "text/html": [
       "<div>\n",
       "<style scoped>\n",
       "    .dataframe tbody tr th:only-of-type {\n",
       "        vertical-align: middle;\n",
       "    }\n",
       "\n",
       "    .dataframe tbody tr th {\n",
       "        vertical-align: top;\n",
       "    }\n",
       "\n",
       "    .dataframe thead th {\n",
       "        text-align: right;\n",
       "    }\n",
       "</style>\n",
       "<table border=\"1\" class=\"dataframe\">\n",
       "  <thead>\n",
       "    <tr style=\"text-align: right;\">\n",
       "      <th></th>\n",
       "      <th>label</th>\n",
       "      <th>sentence</th>\n",
       "    </tr>\n",
       "  </thead>\n",
       "  <tbody>\n",
       "    <tr>\n",
       "      <th>0</th>\n",
       "      <td>radical</td>\n",
       "      <td>\"Êtes-vous prêt à faire rendre des comptes à  ...</td>\n",
       "    </tr>\n",
       "    <tr>\n",
       "      <th>1</th>\n",
       "      <td>radical</td>\n",
       "      <td>\"Inapproprié [malade] pour vous ? Normal pour ...</td>\n",
       "    </tr>\n",
       "    <tr>\n",
       "      <th>2</th>\n",
       "      <td>radical</td>\n",
       "      <td>\"Les termes «Cabale» et «État profond» font ré...</td>\n",
       "    </tr>\n",
       "    <tr>\n",
       "      <th>3</th>\n",
       "      <td>radical</td>\n",
       "      <td>\"Le pire, c'est qu'ils adorent Satan et commet...</td>\n",
       "    </tr>\n",
       "    <tr>\n",
       "      <th>4</th>\n",
       "      <td>radical</td>\n",
       "      <td>\"Symboles et logos utilisés par les pédophiles...</td>\n",
       "    </tr>\n",
       "    <tr>\n",
       "      <th>...</th>\n",
       "      <td>...</td>\n",
       "      <td>...</td>\n",
       "    </tr>\n",
       "    <tr>\n",
       "      <th>1470</th>\n",
       "      <td>non_radical</td>\n",
       "      <td>\"Les crises économique et terroriste de 2008 e...</td>\n",
       "    </tr>\n",
       "    <tr>\n",
       "      <th>1471</th>\n",
       "      <td>non_radical</td>\n",
       "      <td>\"à la différence de la crise financière de 200...</td>\n",
       "    </tr>\n",
       "    <tr>\n",
       "      <th>1472</th>\n",
       "      <td>non_radical</td>\n",
       "      <td>\"Dans l’instant, la photographie de la situati...</td>\n",
       "    </tr>\n",
       "    <tr>\n",
       "      <th>1473</th>\n",
       "      <td>non_radical</td>\n",
       "      <td>\"Ce recul relativement faible du revenu des mé...</td>\n",
       "    </tr>\n",
       "    <tr>\n",
       "      <th>1474</th>\n",
       "      <td>non_radical</td>\n",
       "      <td>\"Il ne faudrait pas que la crise du Covid soit...</td>\n",
       "    </tr>\n",
       "  </tbody>\n",
       "</table>\n",
       "<p>1475 rows × 2 columns</p>\n",
       "</div>"
      ],
      "text/plain": [
       "            label                                           sentence\n",
       "0         radical  \"Êtes-vous prêt à faire rendre des comptes à  ...\n",
       "1         radical  \"Inapproprié [malade] pour vous ? Normal pour ...\n",
       "2         radical  \"Les termes «Cabale» et «État profond» font ré...\n",
       "3         radical  \"Le pire, c'est qu'ils adorent Satan et commet...\n",
       "4         radical  \"Symboles et logos utilisés par les pédophiles...\n",
       "...           ...                                                ...\n",
       "1470  non_radical  \"Les crises économique et terroriste de 2008 e...\n",
       "1471  non_radical  \"à la différence de la crise financière de 200...\n",
       "1472  non_radical  \"Dans l’instant, la photographie de la situati...\n",
       "1473  non_radical  \"Ce recul relativement faible du revenu des mé...\n",
       "1474  non_radical  \"Il ne faudrait pas que la crise du Covid soit...\n",
       "\n",
       "[1475 rows x 2 columns]"
      ]
     },
     "execution_count": 20,
     "metadata": {},
     "output_type": "execute_result"
    }
   ],
   "source": [
    "res = []\n",
    "\n",
    "with open(\"./corpus__fasttext.txt\",\"r\") as f :\n",
    "    for line in f:\n",
    "        label, sentence = line.split(\" \",1)   \n",
    "        res.append((label.replace(\"__label__\",\"\"), sentence))    \n",
    "        \n",
    "df = pd.DataFrame(res,columns=[\"label\",\"sentence\"])\n",
    "\n",
    "df"
   ]
  },
  {
   "cell_type": "code",
   "execution_count": null,
   "metadata": {},
   "outputs": [],
   "source": []
  }
 ],
 "metadata": {
  "kernelspec": {
   "display_name": "Python 3",
   "language": "python",
   "name": "python3"
  },
  "language_info": {
   "codemirror_mode": {
    "name": "ipython",
    "version": 3
   },
   "file_extension": ".py",
   "mimetype": "text/x-python",
   "name": "python",
   "nbconvert_exporter": "python",
   "pygments_lexer": "ipython3",
   "version": "3.9.7"
  },
  "orig_nbformat": 4,
  "vscode": {
   "interpreter": {
    "hash": "aee8b7b246df8f9039afb4144a1f6fd8d2ca17a180786b69acc140d282b71a49"
   }
  }
 },
 "nbformat": 4,
 "nbformat_minor": 2
}
